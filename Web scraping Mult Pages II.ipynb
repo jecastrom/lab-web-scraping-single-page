{
 "cells": [
  {
   "cell_type": "code",
   "execution_count": null,
   "id": "daac399c-f153-4514-a18d-0df2e3d2f8a1",
   "metadata": {},
   "outputs": [],
   "source": []
  },
  {
   "cell_type": "markdown",
   "id": "284f0480-f466-4d6e-bbd7-d84550988e40",
   "metadata": {},
   "source": [
    "## Lab | Web Scraping Multiple Pages\n",
    "Jorge Castro DAPT NOV 2021"
   ]
  },
  {
   "cell_type": "markdown",
   "id": "506ad3fb-691f-408a-92d7-4ca1d348d528",
   "metadata": {},
   "source": [
    "### Instructions\n",
    "\n",
    "#### Prioritize the MVP\n",
    "\n",
    "In the previous lab, you had to scrape data about \"hot songs\". It's critical to be on track with that part, as it was part of the request from the CTO.\n",
    "\n",
    "If you couldn't finish the first lab, use this time to go back there.\n",
    "\n",
    "Expand the project\n",
    "If you're done, you can try to expand the project on your own. Here are a few suggestions:\n",
    "\n",
    "Find other lists of hot songs on the internet and scrape them too: having a bigger pool of songs will be awesome!\n",
    "Apply the same logic to other \"groups\" of songs: the best songs from a decade or from a country / culture / language / genre.\n",
    "Wikipedia maintains a large collection of lists of songs: https://en.wikipedia.org/wiki/Lists_of_songs"
   ]
  },
  {
   "cell_type": "markdown",
   "id": "045b7ceb-705c-4af2-a67c-234450496e41",
   "metadata": {},
   "source": [
    "# 100 songs from Bilboard Single Page"
   ]
  },
  {
   "cell_type": "code",
   "execution_count": 72,
   "id": "64c52b22-b55f-4d03-b3c4-600b67fbb297",
   "metadata": {},
   "outputs": [],
   "source": [
    "from bs4 import BeautifulSoup\n",
    "from time import sleep\n",
    "import random\n",
    "import requests\n",
    "import pandas as pd\n",
    "from datetime import datetime\n",
    "# Library to create a progress bar\n",
    "from tqdm.notebook import tqdm"
   ]
  },
  {
   "cell_type": "code",
   "execution_count": 73,
   "id": "62dee2ea-5e20-4dbc-bb8a-747395d73966",
   "metadata": {},
   "outputs": [],
   "source": [
    "r = requests.get('https://www.billboard.com/charts/hot-100/')"
   ]
  },
  {
   "cell_type": "code",
   "execution_count": 74,
   "id": "40702a59-877f-4813-abbe-5cb5ffb37721",
   "metadata": {},
   "outputs": [
    {
     "data": {
      "text/plain": [
       "200"
      ]
     },
     "execution_count": 74,
     "metadata": {},
     "output_type": "execute_result"
    }
   ],
   "source": [
    "r.status_code"
   ]
  },
  {
   "cell_type": "code",
   "execution_count": 75,
   "id": "a4f1a843-63ce-4622-a0df-f5e2ff4d2c9f",
   "metadata": {},
   "outputs": [],
   "source": [
    "html = r.content"
   ]
  },
  {
   "cell_type": "code",
   "execution_count": 76,
   "id": "75eeaa69-bf5b-4b00-a6b1-b633c598df1c",
   "metadata": {},
   "outputs": [],
   "source": [
    "#html"
   ]
  },
  {
   "cell_type": "code",
   "execution_count": 77,
   "id": "72e93033-406d-49d3-a292-c704e4004cf0",
   "metadata": {},
   "outputs": [],
   "source": [
    "soup = BeautifulSoup(html, 'html.parser')"
   ]
  },
  {
   "cell_type": "code",
   "execution_count": 78,
   "id": "ab88cce4-358f-44cc-bf28-a663f5a80e18",
   "metadata": {},
   "outputs": [],
   "source": [
    "#soup"
   ]
  },
  {
   "cell_type": "code",
   "execution_count": 79,
   "id": "511d8764-7a4a-4cae-9a1e-9770625190fb",
   "metadata": {},
   "outputs": [],
   "source": [
    "html_songs = soup.find_all('h3', attrs={'id': 'title-of-a-story'})"
   ]
  },
  {
   "cell_type": "code",
   "execution_count": 80,
   "id": "d0d6b294-f414-466f-8a2d-ac9f9d2de04d",
   "metadata": {},
   "outputs": [],
   "source": [
    "#html_songs"
   ]
  },
  {
   "cell_type": "code",
   "execution_count": 81,
   "id": "386fa566-ba57-4dd9-ada3-db4771115a40",
   "metadata": {},
   "outputs": [],
   "source": [
    "html_top1 = soup.find_all('span', attrs={'class': 'c-label a-no-trucate a-font-primary-s \\\n",
    "lrv-u-font-size-14@mobile-max u-line-height-normal@mobile-max u-letter-spacing-0021 \\\n",
    "lrv-u-display-block a-truncate-ellipsis-2line u-max-width-330 u-max-width-230@tablet-only u-font-size-20@tablet'})\n"
   ]
  },
  {
   "cell_type": "code",
   "execution_count": 82,
   "id": "a3d5dabe-65a3-4b05-9028-ad33b7d644a4",
   "metadata": {},
   "outputs": [
    {
     "data": {
      "text/plain": [
       "[<span class=\"c-label a-no-trucate a-font-primary-s lrv-u-font-size-14@mobile-max u-line-height-normal@mobile-max u-letter-spacing-0021 lrv-u-display-block a-truncate-ellipsis-2line u-max-width-330 u-max-width-230@tablet-only u-font-size-20@tablet\">\n",
       " \t\n",
       " \tJack Harlow\n",
       " </span>]"
      ]
     },
     "execution_count": 82,
     "metadata": {},
     "output_type": "execute_result"
    }
   ],
   "source": [
    "html_top1"
   ]
  },
  {
   "cell_type": "code",
   "execution_count": 83,
   "id": "b2a6be9c-7412-4df7-a52e-5ffdaafb4788",
   "metadata": {},
   "outputs": [],
   "source": [
    "html_artists = soup.find_all('span', attrs={'class': 'c-label a-no-trucate a-font-primary-s lrv-u-font-size-14@mobile-max \\\n",
    "u-line-height-normal@mobile-max u-letter-spacing-0021 lrv-u-display-block a-truncate-ellipsis-2line u-max-width-330 \\\n",
    "u-max-width-230@tablet-only'})"
   ]
  },
  {
   "cell_type": "code",
   "execution_count": 84,
   "id": "77d8399d-f99d-4831-b3f7-f9b4988af088",
   "metadata": {},
   "outputs": [],
   "source": [
    "#html_artists"
   ]
  },
  {
   "cell_type": "code",
   "execution_count": 85,
   "id": "780a6d06-909b-4510-886a-a3b269742436",
   "metadata": {},
   "outputs": [],
   "source": [
    "# Looking with \"Inspect\" in the Billboard chart, a parent class \"li\" contains the info of both song titles and artists:\n",
    "# Because the fonts are different, the first song has one class and all the rest of the songs have another class. So \n",
    "# we have to put the 2 list toguether. "
   ]
  },
  {
   "cell_type": "code",
   "execution_count": 86,
   "id": "ae1ce1df-9a99-4254-ab1d-283bda1f48a3",
   "metadata": {},
   "outputs": [],
   "source": [
    "html_first = soup.find_all('li', attrs={'class': 'o-chart-results-list__item // lrv-u-flex-grow-1 lrv-u-flex \\\n",
    "lrv-u-flex-direction-column lrv-u-justify-content-center lrv-u-border-b-1 u-border-b-0@mobile-max \\\n",
    "lrv-u-border-color-grey-light lrv-u-padding-l-1@mobile-max'})"
   ]
  },
  {
   "cell_type": "code",
   "execution_count": 87,
   "id": "0e0ceecb-e5a0-41ac-90f5-92a0031a4a96",
   "metadata": {},
   "outputs": [],
   "source": [
    "#html_first"
   ]
  },
  {
   "cell_type": "code",
   "execution_count": 88,
   "id": "641b8d22-87f6-4e79-8dbe-6195ebe4db70",
   "metadata": {},
   "outputs": [],
   "source": [
    "\n",
    "html_rest = soup.find_all('li', attrs={'class': 'o-chart-results-list__item // lrv-u-flex-grow-1 lrv-u-flex \\\n",
    "lrv-u-flex-direction-column lrv-u-justify-content-center lrv-u-border-b-1 u-border-b-0@mobile-max lrv-u-border-color-grey-light \\\n",
    "lrv-u-padding-l-050 lrv-u-padding-l-1@mobile-max'})"
   ]
  },
  {
   "cell_type": "code",
   "execution_count": 89,
   "id": "88232663-77f2-4395-9514-088869486733",
   "metadata": {},
   "outputs": [],
   "source": [
    "#html_rest"
   ]
  },
  {
   "cell_type": "code",
   "execution_count": 90,
   "id": "fab8322e-515f-4035-9189-32d173892b21",
   "metadata": {},
   "outputs": [],
   "source": [
    "# I can now join the 2 lists"
   ]
  },
  {
   "cell_type": "code",
   "execution_count": 91,
   "id": "85ee7ba0-79e1-4bc7-b34e-39a24467b03e",
   "metadata": {},
   "outputs": [],
   "source": [
    "html_all = html_first + html_rest"
   ]
  },
  {
   "cell_type": "code",
   "execution_count": 92,
   "id": "52c41f43-0e4f-42ed-924d-982b4fd01e66",
   "metadata": {},
   "outputs": [],
   "source": [
    "#html_all"
   ]
  },
  {
   "cell_type": "markdown",
   "id": "116b63d9-ae6d-4939-a2aa-d73ba8221c86",
   "metadata": {},
   "source": [
    "## Data Cleaning"
   ]
  },
  {
   "cell_type": "raw",
   "id": "fb4f8337-5f11-4ffc-8990-97913339a455",
   "metadata": {},
   "source": [
    "# Just to have a look at the data after cleaning\n",
    "\n",
    "for song in html_all:\n",
    "    print(song.find('h3').get_text())\n",
    "    print(song.find('span').get_text())"
   ]
  },
  {
   "cell_type": "code",
   "execution_count": null,
   "id": "3eca56d8-ae2e-426a-a28c-d88e80ec464f",
   "metadata": {},
   "outputs": [],
   "source": []
  },
  {
   "cell_type": "code",
   "execution_count": 93,
   "id": "00290e97-e966-44af-b87d-a8b457ddb41e",
   "metadata": {},
   "outputs": [
    {
     "data": {
      "text/html": [
       "<div>\n",
       "<style scoped>\n",
       "    .dataframe tbody tr th:only-of-type {\n",
       "        vertical-align: middle;\n",
       "    }\n",
       "\n",
       "    .dataframe tbody tr th {\n",
       "        vertical-align: top;\n",
       "    }\n",
       "\n",
       "    .dataframe thead th {\n",
       "        text-align: right;\n",
       "    }\n",
       "</style>\n",
       "<table border=\"1\" class=\"dataframe\">\n",
       "  <thead>\n",
       "    <tr style=\"text-align: right;\">\n",
       "      <th></th>\n",
       "      <th>song</th>\n",
       "      <th>artist</th>\n",
       "    </tr>\n",
       "  </thead>\n",
       "  <tbody>\n",
       "    <tr>\n",
       "      <th>0</th>\n",
       "      <td>First Class</td>\n",
       "      <td>Jack Harlow</td>\n",
       "    </tr>\n",
       "    <tr>\n",
       "      <th>1</th>\n",
       "      <td>As It Was</td>\n",
       "      <td>Harry Styles</td>\n",
       "    </tr>\n",
       "    <tr>\n",
       "      <th>2</th>\n",
       "      <td>Heat Waves</td>\n",
       "      <td>Glass Animals</td>\n",
       "    </tr>\n",
       "    <tr>\n",
       "      <th>3</th>\n",
       "      <td>Big Energy</td>\n",
       "      <td>Latto</td>\n",
       "    </tr>\n",
       "    <tr>\n",
       "      <th>4</th>\n",
       "      <td>Enemy</td>\n",
       "      <td>Imagine Dragons X JID</td>\n",
       "    </tr>\n",
       "    <tr>\n",
       "      <th>...</th>\n",
       "      <td>...</td>\n",
       "      <td>...</td>\n",
       "    </tr>\n",
       "    <tr>\n",
       "      <th>95</th>\n",
       "      <td>Over</td>\n",
       "      <td>Lucky Daye</td>\n",
       "    </tr>\n",
       "    <tr>\n",
       "      <th>96</th>\n",
       "      <td>Neck &amp; Wrist</td>\n",
       "      <td>Pusha T Featuring JAY-Z &amp; Pharrell Williams</td>\n",
       "    </tr>\n",
       "    <tr>\n",
       "      <th>97</th>\n",
       "      <td>Desesperados</td>\n",
       "      <td>Rauw Alejandro &amp; Chencho Corleone</td>\n",
       "    </tr>\n",
       "    <tr>\n",
       "      <th>98</th>\n",
       "      <td>X Ultima Vez</td>\n",
       "      <td>Daddy Yankee &amp; Bad Bunny</td>\n",
       "    </tr>\n",
       "    <tr>\n",
       "      <th>99</th>\n",
       "      <td>Praise The Lord</td>\n",
       "      <td>BRELAND Featuring Thomas Rhett</td>\n",
       "    </tr>\n",
       "  </tbody>\n",
       "</table>\n",
       "<p>100 rows × 2 columns</p>\n",
       "</div>"
      ],
      "text/plain": [
       "               song                                       artist\n",
       "0       First Class                                  Jack Harlow\n",
       "1         As It Was                                 Harry Styles\n",
       "2        Heat Waves                                Glass Animals\n",
       "3        Big Energy                                        Latto\n",
       "4             Enemy                        Imagine Dragons X JID\n",
       "..              ...                                          ...\n",
       "95             Over                                   Lucky Daye\n",
       "96     Neck & Wrist  Pusha T Featuring JAY-Z & Pharrell Williams\n",
       "97     Desesperados            Rauw Alejandro & Chencho Corleone\n",
       "98     X Ultima Vez                     Daddy Yankee & Bad Bunny\n",
       "99  Praise The Lord               BRELAND Featuring Thomas Rhett\n",
       "\n",
       "[100 rows x 2 columns]"
      ]
     },
     "execution_count": 93,
     "metadata": {},
     "output_type": "execute_result"
    }
   ],
   "source": [
    "# Creating a DataFrame: here we create two arrays, we loop through the content in html_all\n",
    "# then we push the data we need into the two arrays. \n",
    "\n",
    "song = []\n",
    "artist = []\n",
    "\n",
    "for entry in html_all:\n",
    "    song.append(entry.find(\"h3\").get_text().replace(\"\\n\", \"\").replace('\\t', ''))\n",
    "    artist.append(entry.find(\"span\").get_text().replace(\"\\n\", \"\").replace('\\t', ''))\n",
    "    \n",
    "# Here we ensamble the DataFrame \n",
    "top100 = pd.DataFrame()\n",
    "top100['song'] = song\n",
    "top100['artist'] = artist\n",
    "top100\n",
    "    "
   ]
  },
  {
   "cell_type": "code",
   "execution_count": 94,
   "id": "3f19d31c-9221-4311-95a5-1b04e262c5bc",
   "metadata": {},
   "outputs": [
    {
     "data": {
      "text/html": [
       "<div>\n",
       "<style scoped>\n",
       "    .dataframe tbody tr th:only-of-type {\n",
       "        vertical-align: middle;\n",
       "    }\n",
       "\n",
       "    .dataframe tbody tr th {\n",
       "        vertical-align: top;\n",
       "    }\n",
       "\n",
       "    .dataframe thead th {\n",
       "        text-align: right;\n",
       "    }\n",
       "</style>\n",
       "<table border=\"1\" class=\"dataframe\">\n",
       "  <thead>\n",
       "    <tr style=\"text-align: right;\">\n",
       "      <th></th>\n",
       "      <th>song</th>\n",
       "      <th>artist</th>\n",
       "    </tr>\n",
       "  </thead>\n",
       "  <tbody>\n",
       "    <tr>\n",
       "      <th>0</th>\n",
       "      <td>First Class</td>\n",
       "      <td>Jack Harlow</td>\n",
       "    </tr>\n",
       "    <tr>\n",
       "      <th>1</th>\n",
       "      <td>As It Was</td>\n",
       "      <td>Harry Styles</td>\n",
       "    </tr>\n",
       "    <tr>\n",
       "      <th>2</th>\n",
       "      <td>Heat Waves</td>\n",
       "      <td>Glass Animals</td>\n",
       "    </tr>\n",
       "    <tr>\n",
       "      <th>3</th>\n",
       "      <td>Big Energy</td>\n",
       "      <td>Latto</td>\n",
       "    </tr>\n",
       "    <tr>\n",
       "      <th>4</th>\n",
       "      <td>Enemy</td>\n",
       "      <td>Imagine Dragons X JID</td>\n",
       "    </tr>\n",
       "    <tr>\n",
       "      <th>...</th>\n",
       "      <td>...</td>\n",
       "      <td>...</td>\n",
       "    </tr>\n",
       "    <tr>\n",
       "      <th>95</th>\n",
       "      <td>Over</td>\n",
       "      <td>Lucky Daye</td>\n",
       "    </tr>\n",
       "    <tr>\n",
       "      <th>96</th>\n",
       "      <td>Neck &amp; Wrist</td>\n",
       "      <td>Pusha T Featuring JAY-Z &amp; Pharrell Williams</td>\n",
       "    </tr>\n",
       "    <tr>\n",
       "      <th>97</th>\n",
       "      <td>Desesperados</td>\n",
       "      <td>Rauw Alejandro &amp; Chencho Corleone</td>\n",
       "    </tr>\n",
       "    <tr>\n",
       "      <th>98</th>\n",
       "      <td>X Ultima Vez</td>\n",
       "      <td>Daddy Yankee &amp; Bad Bunny</td>\n",
       "    </tr>\n",
       "    <tr>\n",
       "      <th>99</th>\n",
       "      <td>Praise The Lord</td>\n",
       "      <td>BRELAND Featuring Thomas Rhett</td>\n",
       "    </tr>\n",
       "  </tbody>\n",
       "</table>\n",
       "<p>100 rows × 2 columns</p>\n",
       "</div>"
      ],
      "text/plain": [
       "               song                                       artist\n",
       "0       First Class                                  Jack Harlow\n",
       "1         As It Was                                 Harry Styles\n",
       "2        Heat Waves                                Glass Animals\n",
       "3        Big Energy                                        Latto\n",
       "4             Enemy                        Imagine Dragons X JID\n",
       "..              ...                                          ...\n",
       "95             Over                                   Lucky Daye\n",
       "96     Neck & Wrist  Pusha T Featuring JAY-Z & Pharrell Williams\n",
       "97     Desesperados            Rauw Alejandro & Chencho Corleone\n",
       "98     X Ultima Vez                     Daddy Yankee & Bad Bunny\n",
       "99  Praise The Lord               BRELAND Featuring Thomas Rhett\n",
       "\n",
       "[100 rows x 2 columns]"
      ]
     },
     "execution_count": 94,
     "metadata": {},
     "output_type": "execute_result"
    }
   ],
   "source": [
    "data_ = pd.DataFrame()\n",
    "data_['song'] = song\n",
    "data_['artist'] = artist\n",
    "data_\n",
    "    "
   ]
  },
  {
   "cell_type": "code",
   "execution_count": 95,
   "id": "ca575be3-3648-4d18-9d1f-2a5a38a85c4a",
   "metadata": {},
   "outputs": [],
   "source": [
    "# Another way to create a DataFrame\n",
    "\n",
    "chart = []\n",
    "\n",
    "for entry in html_all:\n",
    "    col = {'song': entry.find('h3').get_text().replace('\\n', \"\").replace('\\t', \"\"),\n",
    "           'artist': entry.find('span').get_text().replace('\\n', \"\").replace('\\t', \"\")}\n",
    "    chart.append(col)"
   ]
  },
  {
   "cell_type": "code",
   "execution_count": 96,
   "id": "40ecffb7-7554-49b1-adbe-53fff8fc68a4",
   "metadata": {},
   "outputs": [],
   "source": [
    "# we obtain an array \"chart\""
   ]
  },
  {
   "cell_type": "code",
   "execution_count": 97,
   "id": "ae45a918-b611-4e29-8ccc-7528a03789cd",
   "metadata": {},
   "outputs": [],
   "source": [
    "top100_b = pd.DataFrame(chart)"
   ]
  },
  {
   "cell_type": "code",
   "execution_count": 98,
   "id": "1ce34708-5b67-4f65-8d00-89f0cb3982fe",
   "metadata": {},
   "outputs": [
    {
     "data": {
      "text/html": [
       "<div>\n",
       "<style scoped>\n",
       "    .dataframe tbody tr th:only-of-type {\n",
       "        vertical-align: middle;\n",
       "    }\n",
       "\n",
       "    .dataframe tbody tr th {\n",
       "        vertical-align: top;\n",
       "    }\n",
       "\n",
       "    .dataframe thead th {\n",
       "        text-align: right;\n",
       "    }\n",
       "</style>\n",
       "<table border=\"1\" class=\"dataframe\">\n",
       "  <thead>\n",
       "    <tr style=\"text-align: right;\">\n",
       "      <th></th>\n",
       "      <th>song</th>\n",
       "      <th>artist</th>\n",
       "    </tr>\n",
       "  </thead>\n",
       "  <tbody>\n",
       "    <tr>\n",
       "      <th>0</th>\n",
       "      <td>First Class</td>\n",
       "      <td>Jack Harlow</td>\n",
       "    </tr>\n",
       "    <tr>\n",
       "      <th>1</th>\n",
       "      <td>As It Was</td>\n",
       "      <td>Harry Styles</td>\n",
       "    </tr>\n",
       "    <tr>\n",
       "      <th>2</th>\n",
       "      <td>Heat Waves</td>\n",
       "      <td>Glass Animals</td>\n",
       "    </tr>\n",
       "    <tr>\n",
       "      <th>3</th>\n",
       "      <td>Big Energy</td>\n",
       "      <td>Latto</td>\n",
       "    </tr>\n",
       "    <tr>\n",
       "      <th>4</th>\n",
       "      <td>Enemy</td>\n",
       "      <td>Imagine Dragons X JID</td>\n",
       "    </tr>\n",
       "    <tr>\n",
       "      <th>...</th>\n",
       "      <td>...</td>\n",
       "      <td>...</td>\n",
       "    </tr>\n",
       "    <tr>\n",
       "      <th>95</th>\n",
       "      <td>Over</td>\n",
       "      <td>Lucky Daye</td>\n",
       "    </tr>\n",
       "    <tr>\n",
       "      <th>96</th>\n",
       "      <td>Neck &amp; Wrist</td>\n",
       "      <td>Pusha T Featuring JAY-Z &amp; Pharrell Williams</td>\n",
       "    </tr>\n",
       "    <tr>\n",
       "      <th>97</th>\n",
       "      <td>Desesperados</td>\n",
       "      <td>Rauw Alejandro &amp; Chencho Corleone</td>\n",
       "    </tr>\n",
       "    <tr>\n",
       "      <th>98</th>\n",
       "      <td>X Ultima Vez</td>\n",
       "      <td>Daddy Yankee &amp; Bad Bunny</td>\n",
       "    </tr>\n",
       "    <tr>\n",
       "      <th>99</th>\n",
       "      <td>Praise The Lord</td>\n",
       "      <td>BRELAND Featuring Thomas Rhett</td>\n",
       "    </tr>\n",
       "  </tbody>\n",
       "</table>\n",
       "<p>100 rows × 2 columns</p>\n",
       "</div>"
      ],
      "text/plain": [
       "               song                                       artist\n",
       "0       First Class                                  Jack Harlow\n",
       "1         As It Was                                 Harry Styles\n",
       "2        Heat Waves                                Glass Animals\n",
       "3        Big Energy                                        Latto\n",
       "4             Enemy                        Imagine Dragons X JID\n",
       "..              ...                                          ...\n",
       "95             Over                                   Lucky Daye\n",
       "96     Neck & Wrist  Pusha T Featuring JAY-Z & Pharrell Williams\n",
       "97     Desesperados            Rauw Alejandro & Chencho Corleone\n",
       "98     X Ultima Vez                     Daddy Yankee & Bad Bunny\n",
       "99  Praise The Lord               BRELAND Featuring Thomas Rhett\n",
       "\n",
       "[100 rows x 2 columns]"
      ]
     },
     "execution_count": 98,
     "metadata": {},
     "output_type": "execute_result"
    }
   ],
   "source": [
    "top100_b"
   ]
  },
  {
   "cell_type": "markdown",
   "id": "d7ebafb6-1f72-49ef-bc21-c3a3386e5213",
   "metadata": {},
   "source": [
    "# Web Scraping Multiple Pages. \n",
    "### Getting more songs from Wikipedia"
   ]
  },
  {
   "cell_type": "code",
   "execution_count": 99,
   "id": "9ec2ad31-dea9-409a-809a-1d076da9a301",
   "metadata": {},
   "outputs": [],
   "source": [
    "song = []\n",
    "artist = []"
   ]
  },
  {
   "cell_type": "code",
   "execution_count": 100,
   "id": "afab069d-c4e4-4678-bb82-543116d5fd07",
   "metadata": {},
   "outputs": [],
   "source": [
    "urls = []\n",
    "for i in range(1,7):\n",
    "    urls.append(f\"https://en.wikipedia.org/wiki/List_of_songs_in_Glee_(season_{i})\")    "
   ]
  },
  {
   "cell_type": "code",
   "execution_count": 101,
   "id": "3d056f3b-5b0e-4692-9839-69186c1ec826",
   "metadata": {},
   "outputs": [],
   "source": [
    "response = requests.get(urls[0])"
   ]
  },
  {
   "cell_type": "code",
   "execution_count": 102,
   "id": "06d60e1c-9470-4851-bcce-a9873ee5b1e2",
   "metadata": {},
   "outputs": [],
   "source": [
    "soups = []\n",
    "for i in urls:\n",
    "    soups.append(BeautifulSoup((requests.get(i)).content, 'html.parser'))"
   ]
  },
  {
   "cell_type": "code",
   "execution_count": 103,
   "id": "0c546a91-89af-4190-a916-b3d13e6a7be1",
   "metadata": {},
   "outputs": [
    {
     "data": {
      "text/plain": [
       "132"
      ]
     },
     "execution_count": 103,
     "metadata": {},
     "output_type": "execute_result"
    }
   ],
   "source": [
    "len(soups[0].select('.wikitable > tbody > tr > th > a'))"
   ]
  },
  {
   "cell_type": "code",
   "execution_count": 104,
   "id": "851b6ef6-3e1c-4471-aa8f-6b4da6114461",
   "metadata": {},
   "outputs": [],
   "source": [
    "song = []\n",
    "artist = []\n",
    "\n",
    "# Song selector from header row\n",
    "#mw-content-text > div.mw-parser-output > table > thead > tr > th:nth-child(1)\n",
    "\n",
    "# Artist selector from first song row\n",
    "#mw-content-text > div.mw-parser-output > table > tbody > tr:nth-child(1) > td:nth-child(3)\n",
    "\n",
    "for i in soups:\n",
    "    for tag in (i.select('.wikitable > tbody > tr > th:nth-child(1)')):\n",
    "        if (tag['scope'] == 'row'):\n",
    "            song.append(tag.get_text().rstrip().strip('\\\"'))\n",
    "    for tag in i.select('.wikitable > tbody > tr > td:nth-child(3)'):\n",
    "        artist.append(tag.get_text())\n"
   ]
  },
  {
   "cell_type": "code",
   "execution_count": 105,
   "id": "5c26e920-682e-4ab6-b725-0d499d70edaa",
   "metadata": {},
   "outputs": [
    {
     "data": {
      "text/html": [
       "<div>\n",
       "<style scoped>\n",
       "    .dataframe tbody tr th:only-of-type {\n",
       "        vertical-align: middle;\n",
       "    }\n",
       "\n",
       "    .dataframe tbody tr th {\n",
       "        vertical-align: top;\n",
       "    }\n",
       "\n",
       "    .dataframe thead th {\n",
       "        text-align: right;\n",
       "    }\n",
       "</style>\n",
       "<table border=\"1\" class=\"dataframe\">\n",
       "  <thead>\n",
       "    <tr style=\"text-align: right;\">\n",
       "      <th></th>\n",
       "      <th>song</th>\n",
       "      <th>artist</th>\n",
       "    </tr>\n",
       "  </thead>\n",
       "  <tbody>\n",
       "    <tr>\n",
       "      <th>0</th>\n",
       "      <td>Where Is Love?</td>\n",
       "      <td>Hank Saunders and Sandy Ryerson</td>\n",
       "    </tr>\n",
       "    <tr>\n",
       "      <th>1</th>\n",
       "      <td>Respect</td>\n",
       "      <td>Mercedes Jones</td>\n",
       "    </tr>\n",
       "    <tr>\n",
       "      <th>2</th>\n",
       "      <td>Mister Cellophane</td>\n",
       "      <td>Kurt Hummel</td>\n",
       "    </tr>\n",
       "    <tr>\n",
       "      <th>3</th>\n",
       "      <td>I Kissed a Girl</td>\n",
       "      <td>Tina Cohen-Chang</td>\n",
       "    </tr>\n",
       "    <tr>\n",
       "      <th>4</th>\n",
       "      <td>On My Own</td>\n",
       "      <td>Rachel Berry</td>\n",
       "    </tr>\n",
       "    <tr>\n",
       "      <th>...</th>\n",
       "      <td>...</td>\n",
       "      <td>...</td>\n",
       "    </tr>\n",
       "    <tr>\n",
       "      <th>738</th>\n",
       "      <td>Someday We'll Be Together</td>\n",
       "      <td>Mercedes Jones with gospel choir</td>\n",
       "    </tr>\n",
       "    <tr>\n",
       "      <th>739</th>\n",
       "      <td>The Winner Takes It All</td>\n",
       "      <td>Sue Sylvester and Will Schuester</td>\n",
       "    </tr>\n",
       "    <tr>\n",
       "      <th>740</th>\n",
       "      <td>Daydream Believer</td>\n",
       "      <td>Kurt Hummel and Blaine Anderson with schoolchi...</td>\n",
       "    </tr>\n",
       "    <tr>\n",
       "      <th>741</th>\n",
       "      <td>This Time</td>\n",
       "      <td>Rachel Berry</td>\n",
       "    </tr>\n",
       "    <tr>\n",
       "      <th>742</th>\n",
       "      <td>I Lived</td>\n",
       "      <td>\\nList of performers\\nWill Schuester, Sam Evan...</td>\n",
       "    </tr>\n",
       "  </tbody>\n",
       "</table>\n",
       "<p>743 rows × 2 columns</p>\n",
       "</div>"
      ],
      "text/plain": [
       "                          song  \\\n",
       "0               Where Is Love?   \n",
       "1                      Respect   \n",
       "2            Mister Cellophane   \n",
       "3              I Kissed a Girl   \n",
       "4                    On My Own   \n",
       "..                         ...   \n",
       "738  Someday We'll Be Together   \n",
       "739    The Winner Takes It All   \n",
       "740          Daydream Believer   \n",
       "741                  This Time   \n",
       "742                    I Lived   \n",
       "\n",
       "                                                artist  \n",
       "0                      Hank Saunders and Sandy Ryerson  \n",
       "1                                       Mercedes Jones  \n",
       "2                                          Kurt Hummel  \n",
       "3                                     Tina Cohen-Chang  \n",
       "4                                         Rachel Berry  \n",
       "..                                                 ...  \n",
       "738                   Mercedes Jones with gospel choir  \n",
       "739                   Sue Sylvester and Will Schuester  \n",
       "740  Kurt Hummel and Blaine Anderson with schoolchi...  \n",
       "741                                       Rachel Berry  \n",
       "742  \\nList of performers\\nWill Schuester, Sam Evan...  \n",
       "\n",
       "[743 rows x 2 columns]"
      ]
     },
     "execution_count": 105,
     "metadata": {},
     "output_type": "execute_result"
    }
   ],
   "source": [
    "# Here we ensamble the DataFrame \n",
    "songs_glee_7s = pd.DataFrame()\n",
    "songs_glee_7s['song'] = song\n",
    "songs_glee_7s['artist'] = artist\n",
    "songs_glee_7s"
   ]
  },
  {
   "cell_type": "code",
   "execution_count": 108,
   "id": "400e3d69-978b-443f-8c87-5e4a63adba5d",
   "metadata": {},
   "outputs": [
    {
     "data": {
      "text/html": [
       "<div>\n",
       "<style scoped>\n",
       "    .dataframe tbody tr th:only-of-type {\n",
       "        vertical-align: middle;\n",
       "    }\n",
       "\n",
       "    .dataframe tbody tr th {\n",
       "        vertical-align: top;\n",
       "    }\n",
       "\n",
       "    .dataframe thead th {\n",
       "        text-align: right;\n",
       "    }\n",
       "</style>\n",
       "<table border=\"1\" class=\"dataframe\">\n",
       "  <thead>\n",
       "    <tr style=\"text-align: right;\">\n",
       "      <th></th>\n",
       "      <th>song</th>\n",
       "      <th>artist</th>\n",
       "    </tr>\n",
       "  </thead>\n",
       "  <tbody>\n",
       "    <tr>\n",
       "      <th>0</th>\n",
       "      <td>First Class</td>\n",
       "      <td>Jack Harlow</td>\n",
       "    </tr>\n",
       "    <tr>\n",
       "      <th>1</th>\n",
       "      <td>As It Was</td>\n",
       "      <td>Harry Styles</td>\n",
       "    </tr>\n",
       "    <tr>\n",
       "      <th>2</th>\n",
       "      <td>Heat Waves</td>\n",
       "      <td>Glass Animals</td>\n",
       "    </tr>\n",
       "    <tr>\n",
       "      <th>3</th>\n",
       "      <td>Big Energy</td>\n",
       "      <td>Latto</td>\n",
       "    </tr>\n",
       "    <tr>\n",
       "      <th>4</th>\n",
       "      <td>Enemy</td>\n",
       "      <td>Imagine Dragons X JID</td>\n",
       "    </tr>\n",
       "    <tr>\n",
       "      <th>...</th>\n",
       "      <td>...</td>\n",
       "      <td>...</td>\n",
       "    </tr>\n",
       "    <tr>\n",
       "      <th>738</th>\n",
       "      <td>Someday We'll Be Together</td>\n",
       "      <td>Mercedes Jones with gospel choir</td>\n",
       "    </tr>\n",
       "    <tr>\n",
       "      <th>739</th>\n",
       "      <td>The Winner Takes It All</td>\n",
       "      <td>Sue Sylvester and Will Schuester</td>\n",
       "    </tr>\n",
       "    <tr>\n",
       "      <th>740</th>\n",
       "      <td>Daydream Believer</td>\n",
       "      <td>Kurt Hummel and Blaine Anderson with schoolchi...</td>\n",
       "    </tr>\n",
       "    <tr>\n",
       "      <th>741</th>\n",
       "      <td>This Time</td>\n",
       "      <td>Rachel Berry</td>\n",
       "    </tr>\n",
       "    <tr>\n",
       "      <th>742</th>\n",
       "      <td>I Lived</td>\n",
       "      <td>\\nList of performers\\nWill Schuester, Sam Evan...</td>\n",
       "    </tr>\n",
       "  </tbody>\n",
       "</table>\n",
       "<p>843 rows × 2 columns</p>\n",
       "</div>"
      ],
      "text/plain": [
       "                          song  \\\n",
       "0                  First Class   \n",
       "1                    As It Was   \n",
       "2                   Heat Waves   \n",
       "3                   Big Energy   \n",
       "4                        Enemy   \n",
       "..                         ...   \n",
       "738  Someday We'll Be Together   \n",
       "739    The Winner Takes It All   \n",
       "740          Daydream Believer   \n",
       "741                  This Time   \n",
       "742                    I Lived   \n",
       "\n",
       "                                                artist  \n",
       "0                                          Jack Harlow  \n",
       "1                                         Harry Styles  \n",
       "2                                        Glass Animals  \n",
       "3                                                Latto  \n",
       "4                                Imagine Dragons X JID  \n",
       "..                                                 ...  \n",
       "738                   Mercedes Jones with gospel choir  \n",
       "739                   Sue Sylvester and Will Schuester  \n",
       "740  Kurt Hummel and Blaine Anderson with schoolchi...  \n",
       "741                                       Rachel Berry  \n",
       "742  \\nList of performers\\nWill Schuester, Sam Evan...  \n",
       "\n",
       "[843 rows x 2 columns]"
      ]
     },
     "execution_count": 108,
     "metadata": {},
     "output_type": "execute_result"
    }
   ],
   "source": [
    "data = pd.concat([data_, songs_glee_7s]) \n",
    "data"
   ]
  },
  {
   "cell_type": "code",
   "execution_count": 110,
   "id": "bc2ba2a6-4683-4fed-a4ce-1543c3619200",
   "metadata": {},
   "outputs": [],
   "source": [
    "# Top 40 songs. Can be searched by week (yyyy-mm-dd)\n",
    "# Let's get one year of data\n",
    "urls = []\n",
    "dates = pd.date_range('2020-04-23', '2022-04-23', freq='W')\n",
    "dates = [date.strftime('%Y-%m-%d') for date in dates]\n",
    "\n",
    "for i in dates:\n",
    "    urls.append(f'https://www.billboard.com/charts/pop-songs/{i}')"
   ]
  },
  {
   "cell_type": "code",
   "execution_count": null,
   "id": "90222719-0cf2-4d4c-afe4-c2bc90ee5b7f",
   "metadata": {},
   "outputs": [],
   "source": []
  },
  {
   "cell_type": "code",
   "execution_count": 112,
   "id": "3079c154-c37d-4ca4-8dff-f0cda0559c92",
   "metadata": {},
   "outputs": [
    {
     "data": {
      "application/vnd.jupyter.widget-view+json": {
       "model_id": "d69dc26770b04b87aa280a33dc166784",
       "version_major": 2,
       "version_minor": 0
      },
      "text/plain": [
       "  0%|          | 0/104 [00:00<?, ?it/s]"
      ]
     },
     "metadata": {},
     "output_type": "display_data"
    }
   ],
   "source": [
    "soups = []\n",
    "for url in tqdm(urls):\n",
    "    soups.append(BeautifulSoup(requests.get(url).content))\n",
    "    sleep(random.random()*4)"
   ]
  },
  {
   "cell_type": "code",
   "execution_count": null,
   "id": "de950410-2e9a-47b1-9ec9-316ef07bde0f",
   "metadata": {},
   "outputs": [],
   "source": []
  }
 ],
 "metadata": {
  "kernelspec": {
   "display_name": "Python 3 (ipykernel)",
   "language": "python",
   "name": "python3"
  },
  "language_info": {
   "codemirror_mode": {
    "name": "ipython",
    "version": 3
   },
   "file_extension": ".py",
   "mimetype": "text/x-python",
   "name": "python",
   "nbconvert_exporter": "python",
   "pygments_lexer": "ipython3",
   "version": "3.8.12"
  }
 },
 "nbformat": 4,
 "nbformat_minor": 5
}
