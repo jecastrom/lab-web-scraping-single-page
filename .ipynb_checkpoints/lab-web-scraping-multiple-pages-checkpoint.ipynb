{
 "cells": [
  {
   "cell_type": "markdown",
   "id": "4603825c-13d8-4dec-8bb3-608b73ba1a70",
   "metadata": {},
   "source": [
    "## Lab | Web Scraping Multiple Pages\n",
    "Jorge Castro DAPT NOV 2021"
   ]
  },
  {
   "cell_type": "markdown",
   "id": "ba0fadef-2d91-41f7-bf79-9601d33c942b",
   "metadata": {},
   "source": [
    "### Instructions\n",
    "\n",
    "#### Prioritize the MVP\n",
    "\n",
    "In the previous lab, you had to scrape data about \"hot songs\". It's critical to be on track with that part, as it was part of the request from the CTO.\n",
    "\n",
    "If you couldn't finish the first lab, use this time to go back there.\n",
    "\n",
    "Expand the project\n",
    "If you're done, you can try to expand the project on your own. Here are a few suggestions:\n",
    "\n",
    "Find other lists of hot songs on the internet and scrape them too: having a bigger pool of songs will be awesome!\n",
    "Apply the same logic to other \"groups\" of songs: the best songs from a decade or from a country / culture / language / genre.\n",
    "Wikipedia maintains a large collection of lists of songs: https://en.wikipedia.org/wiki/Lists_of_songs"
   ]
  },
  {
   "cell_type": "code",
   "execution_count": 60,
   "id": "aa2cd3e2-53d8-4e66-ad4e-8035ad6820b9",
   "metadata": {},
   "outputs": [],
   "source": [
    "from bs4 import BeautifulSoup\n",
    "import pandas as pd\n",
    "import requests"
   ]
  },
  {
   "cell_type": "code",
   "execution_count": 61,
   "id": "fa142f6a-24b4-48e8-a093-b3fe3fea1faf",
   "metadata": {},
   "outputs": [],
   "source": [
    "r = requests.get('https://en.wikipedia.org/wiki/List_of_Eurovision_Song_Contest_entries_(2004%E2%80%93present)')"
   ]
  },
  {
   "cell_type": "code",
   "execution_count": 62,
   "id": "2dce43ed-8287-4bfc-b007-45e056643d88",
   "metadata": {},
   "outputs": [
    {
     "data": {
      "text/plain": [
       "200"
      ]
     },
     "execution_count": 62,
     "metadata": {},
     "output_type": "execute_result"
    }
   ],
   "source": [
    "r.status_code"
   ]
  },
  {
   "cell_type": "code",
   "execution_count": 63,
   "id": "f7fccca0-4701-468b-bfe6-0639b287f1da",
   "metadata": {},
   "outputs": [],
   "source": [
    "html = r.content\n",
    "soup = BeautifulSoup(html, 'html.parser')\n",
    "\n",
    "# Get all the tables with Eurovision songs\n",
    "\n",
    "html_table = soup.find_all('table', attrs={'class': 'wikitable plainrowheaders'})"
   ]
  },
  {
   "cell_type": "code",
   "execution_count": 64,
   "id": "2406cbde-08e8-4050-a4f4-70494afe2310",
   "metadata": {},
   "outputs": [],
   "source": [
    "#html_table"
   ]
  },
  {
   "cell_type": "code",
   "execution_count": 65,
   "id": "fae35205-0eee-45a3-adfd-168450d45954",
   "metadata": {},
   "outputs": [],
   "source": [
    "# Creating DataFrame, loopping through the raw data and fetching the elements\n",
    "\n",
    "eurosong = pd.DataFrame()\n",
    "\n",
    "for i in range(len(html_table)):\n",
    "    df = pd.read_html(html_table[i].prettify())[0]\n",
    "    eurosong = pd.concat([eurosong, df])"
   ]
  },
  {
   "cell_type": "code",
   "execution_count": 66,
   "id": "a5d237af-d228-47ce-bde7-2f85a0adb0e7",
   "metadata": {},
   "outputs": [],
   "source": [
    "#df"
   ]
  },
  {
   "cell_type": "markdown",
   "id": "35f9c247-8dea-4236-95d3-2d7cfc3cbaaf",
   "metadata": {},
   "source": [
    "##### Cleaning the data"
   ]
  },
  {
   "cell_type": "code",
   "execution_count": 67,
   "id": "6fa563fb-fbbd-4bd1-af60-1b89d67215c6",
   "metadata": {},
   "outputs": [],
   "source": [
    "# Making all column names lowercase and replacing spaces by underscore\n",
    "\n",
    "eurosong.columns=[eurosong.columns[col_name].lower().replace(' ','_') \\\n",
    "for col_name in range(len(eurosong.columns))]"
   ]
  },
  {
   "cell_type": "code",
   "execution_count": 68,
   "id": "9882f6a7-ee20-4d7d-a3b4-be8e7eedafa8",
   "metadata": {},
   "outputs": [
    {
     "data": {
      "text/plain": [
       "Index(['#', 'r/o_sf', 'r/o_f', 'country', '#.1', 'artist', 'song', 'language',\n",
       "       'songwriter(s)', 'placing', 'year', 'reason', 'ref(s)'],\n",
       "      dtype='object')"
      ]
     },
     "execution_count": 68,
     "metadata": {},
     "output_type": "execute_result"
    }
   ],
   "source": [
    "eurosong.columns"
   ]
  },
  {
   "cell_type": "code",
   "execution_count": 69,
   "id": "c832db8d-d904-4be7-8eae-640fc9df07c9",
   "metadata": {},
   "outputs": [],
   "source": [
    "# Selecting only song and artist, we need to reset the index. To avoid\n",
    "# having 2 indexes, we set the reset_index to drop=True\n",
    "\n",
    "eurosong = eurosong[['song', 'artist']].reset_index(drop=True)\n",
    "\n",
    "# Getting rid of the double quotes in every song, the I apply the strip \n",
    "# method removing both the leading and the trailing characters\n",
    "eurosong['song'] = eurosong['song'].apply(lambda title: title.replace('\"','').strip())"
   ]
  },
  {
   "cell_type": "code",
   "execution_count": 70,
   "id": "3a30cd7f-c625-4d56-ba90-31d8f6a1b35e",
   "metadata": {},
   "outputs": [
    {
     "data": {
      "text/html": [
       "<div>\n",
       "<style scoped>\n",
       "    .dataframe tbody tr th:only-of-type {\n",
       "        vertical-align: middle;\n",
       "    }\n",
       "\n",
       "    .dataframe tbody tr th {\n",
       "        vertical-align: top;\n",
       "    }\n",
       "\n",
       "    .dataframe thead th {\n",
       "        text-align: right;\n",
       "    }\n",
       "</style>\n",
       "<table border=\"1\" class=\"dataframe\">\n",
       "  <thead>\n",
       "    <tr style=\"text-align: right;\">\n",
       "      <th></th>\n",
       "      <th>song</th>\n",
       "      <th>artist</th>\n",
       "    </tr>\n",
       "  </thead>\n",
       "  <tbody>\n",
       "    <tr>\n",
       "      <th>0</th>\n",
       "      <td>Takes 2 to Tango</td>\n",
       "      <td>Jari Sillanpää</td>\n",
       "    </tr>\n",
       "    <tr>\n",
       "      <th>1</th>\n",
       "      <td>My Galileo</td>\n",
       "      <td>Aleksandra and Konstantin</td>\n",
       "    </tr>\n",
       "    <tr>\n",
       "      <th>2</th>\n",
       "      <td>Celebrate</td>\n",
       "      <td>Piero  and the MusicStars</td>\n",
       "    </tr>\n",
       "    <tr>\n",
       "      <th>3</th>\n",
       "      <td>Dziesma par laimi</td>\n",
       "      <td>Fomins and Kleins</td>\n",
       "    </tr>\n",
       "    <tr>\n",
       "      <th>4</th>\n",
       "      <td>Leha'amin    (  להאמין  )</td>\n",
       "      <td>David D'Or</td>\n",
       "    </tr>\n",
       "    <tr>\n",
       "      <th>...</th>\n",
       "      <td>...</td>\n",
       "      <td>...</td>\n",
       "    </tr>\n",
       "    <tr>\n",
       "      <th>734</th>\n",
       "      <td>Universo</td>\n",
       "      <td>Blas Cantó</td>\n",
       "    </tr>\n",
       "    <tr>\n",
       "      <th>735</th>\n",
       "      <td>Move</td>\n",
       "      <td>The Mamas</td>\n",
       "    </tr>\n",
       "    <tr>\n",
       "      <th>736</th>\n",
       "      <td>Répondez-moi</td>\n",
       "      <td>Gjon's Tears</td>\n",
       "    </tr>\n",
       "    <tr>\n",
       "      <th>737</th>\n",
       "      <td>Solovey    (  Соловей  )</td>\n",
       "      <td>Go_A</td>\n",
       "    </tr>\n",
       "    <tr>\n",
       "      <th>738</th>\n",
       "      <td>My Last Breath</td>\n",
       "      <td>James Newman</td>\n",
       "    </tr>\n",
       "  </tbody>\n",
       "</table>\n",
       "<p>739 rows × 2 columns</p>\n",
       "</div>"
      ],
      "text/plain": [
       "                          song                     artist\n",
       "0             Takes 2 to Tango             Jari Sillanpää\n",
       "1                   My Galileo  Aleksandra and Konstantin\n",
       "2                    Celebrate  Piero  and the MusicStars\n",
       "3            Dziesma par laimi          Fomins and Kleins\n",
       "4    Leha'amin    (  להאמין  )                 David D'Or\n",
       "..                         ...                        ...\n",
       "734                   Universo                 Blas Cantó\n",
       "735                       Move                  The Mamas\n",
       "736               Répondez-moi               Gjon's Tears\n",
       "737   Solovey    (  Соловей  )                       Go_A\n",
       "738             My Last Breath               James Newman\n",
       "\n",
       "[739 rows x 2 columns]"
      ]
     },
     "execution_count": 70,
     "metadata": {},
     "output_type": "execute_result"
    }
   ],
   "source": [
    "eurosong"
   ]
  },
  {
   "cell_type": "code",
   "execution_count": null,
   "id": "fdbdf36a-c845-4dce-9868-f3a6d3baa035",
   "metadata": {},
   "outputs": [],
   "source": []
  }
 ],
 "metadata": {
  "kernelspec": {
   "display_name": "Python 3 (ipykernel)",
   "language": "python",
   "name": "python3"
  },
  "language_info": {
   "codemirror_mode": {
    "name": "ipython",
    "version": 3
   },
   "file_extension": ".py",
   "mimetype": "text/x-python",
   "name": "python",
   "nbconvert_exporter": "python",
   "pygments_lexer": "ipython3",
   "version": "3.8.12"
  }
 },
 "nbformat": 4,
 "nbformat_minor": 5
}
