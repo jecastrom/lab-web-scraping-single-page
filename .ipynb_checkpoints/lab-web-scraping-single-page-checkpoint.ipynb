{
 "cells": [
  {
   "cell_type": "markdown",
   "id": "4b463751-9101-4d7a-ba6a-b9e50b32ecc5",
   "metadata": {},
   "source": [
    "Jorge Castro DAPT NOV 2021\n",
    "# Scraping popular songs\n",
    "\n",
    "Your product will take a song as an input from the user and will output another song (the recommendation). In most cases, the recommended song will have to be similar to the inputted song, but the CTO thinks that if the song is on the top charts at the moment, the user will enjoy more a recommendation of a song that's also popular at the moment.\n",
    "\n",
    "Find the data on the internet about currently popular songs. Billboard maintains a weekly Top 100 of \"hot\" songs here: https://www.billboard.com/charts/hot-100.\n",
    "\n",
    "It's a good place to start! Scrape the current top 100 songs and their respective artists, and put the information into a pandas dataframe."
   ]
  },
  {
   "cell_type": "code",
   "execution_count": 28,
   "id": "3d94876b-241e-4370-a22f-a48c76896e42",
   "metadata": {},
   "outputs": [],
   "source": [
    "from bs4 import BeautifulSoup\n",
    "import requests\n",
    "import pandas as pd"
   ]
  },
  {
   "cell_type": "code",
   "execution_count": 29,
   "id": "d28e6148-37c7-4f3d-990d-406f32c5f2c5",
   "metadata": {},
   "outputs": [],
   "source": [
    "r = requests.get('https://www.billboard.com/charts/hot-100/')"
   ]
  },
  {
   "cell_type": "code",
   "execution_count": 30,
   "id": "2fe0f4f3-324c-4c1f-b035-0335e39af77f",
   "metadata": {},
   "outputs": [
    {
     "data": {
      "text/plain": [
       "200"
      ]
     },
     "execution_count": 30,
     "metadata": {},
     "output_type": "execute_result"
    }
   ],
   "source": [
    "r.status_code"
   ]
  },
  {
   "cell_type": "code",
   "execution_count": 31,
   "id": "2cdcf7e3-6b51-4cf9-b164-48e865272925",
   "metadata": {},
   "outputs": [],
   "source": [
    "html = r.content"
   ]
  },
  {
   "cell_type": "code",
   "execution_count": 32,
   "id": "f22cd65a-975b-4eb4-844d-d237b7bf4124",
   "metadata": {},
   "outputs": [],
   "source": [
    "#html"
   ]
  },
  {
   "cell_type": "code",
   "execution_count": 33,
   "id": "983e5dc9-ab81-49f9-bf14-9d9765b91a71",
   "metadata": {},
   "outputs": [],
   "source": [
    "soup = BeautifulSoup(html, 'html.parser')"
   ]
  },
  {
   "cell_type": "code",
   "execution_count": 34,
   "id": "17a247e0-9333-455b-b2b9-5f7e9b261da1",
   "metadata": {},
   "outputs": [],
   "source": [
    "#soup"
   ]
  },
  {
   "cell_type": "code",
   "execution_count": 35,
   "id": "effaf414-9fe4-45fc-bd21-3fdf0eac456b",
   "metadata": {},
   "outputs": [],
   "source": [
    "html_songs = soup.find_all('h3', attrs={'id': 'title-of-a-story'})"
   ]
  },
  {
   "cell_type": "code",
   "execution_count": 36,
   "id": "c36353f2-19e3-405e-af57-628f6e5c5d1a",
   "metadata": {},
   "outputs": [],
   "source": [
    "#html_songs"
   ]
  },
  {
   "cell_type": "code",
   "execution_count": 37,
   "id": "49b9bace-6d21-4432-8f61-d584e63ab761",
   "metadata": {},
   "outputs": [],
   "source": [
    "html_top1 = soup.find_all('span', attrs={'class': 'c-label a-no-trucate a-font-primary-s \\\n",
    "lrv-u-font-size-14@mobile-max u-line-height-normal@mobile-max u-letter-spacing-0021 \\\n",
    "lrv-u-display-block a-truncate-ellipsis-2line u-max-width-330 u-max-width-230@tablet-only u-font-size-20@tablet'})\n"
   ]
  },
  {
   "cell_type": "code",
   "execution_count": 38,
   "id": "961c0673-da01-4ab4-b108-2cf5d58a5e62",
   "metadata": {},
   "outputs": [
    {
     "data": {
      "text/plain": [
       "[<span class=\"c-label a-no-trucate a-font-primary-s lrv-u-font-size-14@mobile-max u-line-height-normal@mobile-max u-letter-spacing-0021 lrv-u-display-block a-truncate-ellipsis-2line u-max-width-330 u-max-width-230@tablet-only u-font-size-20@tablet\">\n",
       " \t\n",
       " \tJack Harlow\n",
       " </span>]"
      ]
     },
     "execution_count": 38,
     "metadata": {},
     "output_type": "execute_result"
    }
   ],
   "source": [
    "html_top1"
   ]
  },
  {
   "cell_type": "code",
   "execution_count": 39,
   "id": "e5a4f33f-bb11-4621-a616-613ae94b325b",
   "metadata": {},
   "outputs": [],
   "source": [
    "html_artists = soup.find_all('span', attrs={'class': 'c-label a-no-trucate a-font-primary-s lrv-u-font-size-14@mobile-max \\\n",
    "u-line-height-normal@mobile-max u-letter-spacing-0021 lrv-u-display-block a-truncate-ellipsis-2line u-max-width-330 \\\n",
    "u-max-width-230@tablet-only'})"
   ]
  },
  {
   "cell_type": "code",
   "execution_count": 40,
   "id": "85243ff2-2966-44c8-a78d-0c50ce91b5c3",
   "metadata": {},
   "outputs": [],
   "source": [
    "#html_artists"
   ]
  },
  {
   "cell_type": "code",
   "execution_count": 41,
   "id": "9cf4d0f2-f41e-434d-9d37-268471c4f405",
   "metadata": {},
   "outputs": [],
   "source": [
    "# Looking with \"Inspect\" in the Billboard chart, a parent class \"li\" contains the info of both song titles and artists:\n",
    "# Because the fonts are different, the first song has one class and all the rest of the songs have another class. So \n",
    "# we have to put the 2 list toguether. "
   ]
  },
  {
   "cell_type": "code",
   "execution_count": 42,
   "id": "863e3917-bd8a-4a58-9f84-c46e65a69509",
   "metadata": {},
   "outputs": [],
   "source": [
    "html_first = soup.find_all('li', attrs={'class': 'o-chart-results-list__item // lrv-u-flex-grow-1 lrv-u-flex \\\n",
    "lrv-u-flex-direction-column lrv-u-justify-content-center lrv-u-border-b-1 u-border-b-0@mobile-max \\\n",
    "lrv-u-border-color-grey-light lrv-u-padding-l-1@mobile-max'})"
   ]
  },
  {
   "cell_type": "code",
   "execution_count": 43,
   "id": "f1ea9313-f289-4885-825c-4cf585480bf9",
   "metadata": {},
   "outputs": [],
   "source": [
    "#html_first"
   ]
  },
  {
   "cell_type": "code",
   "execution_count": 44,
   "id": "4eb055a2-811a-4bfe-a91b-2f9c46a93b1c",
   "metadata": {},
   "outputs": [],
   "source": [
    "\n",
    "html_rest = soup.find_all('li', attrs={'class': 'o-chart-results-list__item // lrv-u-flex-grow-1 lrv-u-flex \\\n",
    "lrv-u-flex-direction-column lrv-u-justify-content-center lrv-u-border-b-1 u-border-b-0@mobile-max lrv-u-border-color-grey-light \\\n",
    "lrv-u-padding-l-050 lrv-u-padding-l-1@mobile-max'})"
   ]
  },
  {
   "cell_type": "code",
   "execution_count": 45,
   "id": "74db6e3d-254e-4b40-8d33-5b08bbf5703c",
   "metadata": {},
   "outputs": [],
   "source": [
    "#html_rest"
   ]
  },
  {
   "cell_type": "code",
   "execution_count": 46,
   "id": "ce165a13-c8f8-4189-a6c8-37870b8c7b5c",
   "metadata": {},
   "outputs": [],
   "source": [
    "# I can now join the 2 lists"
   ]
  },
  {
   "cell_type": "code",
   "execution_count": 47,
   "id": "631cbf86-3c02-4ae9-ad8e-5f818b7069ca",
   "metadata": {},
   "outputs": [],
   "source": [
    "html_all = html_first + html_rest"
   ]
  },
  {
   "cell_type": "code",
   "execution_count": 48,
   "id": "feca1f87-0755-4697-8b44-a51f4fe99513",
   "metadata": {},
   "outputs": [],
   "source": [
    "#html_all"
   ]
  },
  {
   "cell_type": "markdown",
   "id": "d4597b2a-ed80-4392-b2c3-627d90bd9bb6",
   "metadata": {},
   "source": [
    "## Data Cleaning"
   ]
  },
  {
   "cell_type": "raw",
   "id": "7944062b-0483-43e6-8efe-8075494d9816",
   "metadata": {},
   "source": [
    "# Just to have a look at the data after cleaning\n",
    "\n",
    "for song in html_all:\n",
    "    print(song.find('h3').get_text())\n",
    "    print(song.find('span').get_text())"
   ]
  },
  {
   "cell_type": "code",
   "execution_count": 49,
   "id": "9a8b37df-592f-417b-b90a-f1dfb956f25e",
   "metadata": {},
   "outputs": [
    {
     "data": {
      "text/html": [
       "<div>\n",
       "<style scoped>\n",
       "    .dataframe tbody tr th:only-of-type {\n",
       "        vertical-align: middle;\n",
       "    }\n",
       "\n",
       "    .dataframe tbody tr th {\n",
       "        vertical-align: top;\n",
       "    }\n",
       "\n",
       "    .dataframe thead th {\n",
       "        text-align: right;\n",
       "    }\n",
       "</style>\n",
       "<table border=\"1\" class=\"dataframe\">\n",
       "  <thead>\n",
       "    <tr style=\"text-align: right;\">\n",
       "      <th></th>\n",
       "      <th>song</th>\n",
       "      <th>artist</th>\n",
       "    </tr>\n",
       "  </thead>\n",
       "  <tbody>\n",
       "    <tr>\n",
       "      <th>0</th>\n",
       "      <td>First Class</td>\n",
       "      <td>Jack Harlow</td>\n",
       "    </tr>\n",
       "    <tr>\n",
       "      <th>1</th>\n",
       "      <td>As It Was</td>\n",
       "      <td>Harry Styles</td>\n",
       "    </tr>\n",
       "    <tr>\n",
       "      <th>2</th>\n",
       "      <td>Heat Waves</td>\n",
       "      <td>Glass Animals</td>\n",
       "    </tr>\n",
       "    <tr>\n",
       "      <th>3</th>\n",
       "      <td>Big Energy</td>\n",
       "      <td>Latto</td>\n",
       "    </tr>\n",
       "    <tr>\n",
       "      <th>4</th>\n",
       "      <td>Enemy</td>\n",
       "      <td>Imagine Dragons X JID</td>\n",
       "    </tr>\n",
       "    <tr>\n",
       "      <th>...</th>\n",
       "      <td>...</td>\n",
       "      <td>...</td>\n",
       "    </tr>\n",
       "    <tr>\n",
       "      <th>95</th>\n",
       "      <td>Over</td>\n",
       "      <td>Lucky Daye</td>\n",
       "    </tr>\n",
       "    <tr>\n",
       "      <th>96</th>\n",
       "      <td>Neck &amp; Wrist</td>\n",
       "      <td>Pusha T Featuring JAY-Z &amp; Pharrell Williams</td>\n",
       "    </tr>\n",
       "    <tr>\n",
       "      <th>97</th>\n",
       "      <td>Desesperados</td>\n",
       "      <td>Rauw Alejandro &amp; Chencho Corleone</td>\n",
       "    </tr>\n",
       "    <tr>\n",
       "      <th>98</th>\n",
       "      <td>X Ultima Vez</td>\n",
       "      <td>Daddy Yankee &amp; Bad Bunny</td>\n",
       "    </tr>\n",
       "    <tr>\n",
       "      <th>99</th>\n",
       "      <td>Praise The Lord</td>\n",
       "      <td>BRELAND Featuring Thomas Rhett</td>\n",
       "    </tr>\n",
       "  </tbody>\n",
       "</table>\n",
       "<p>100 rows × 2 columns</p>\n",
       "</div>"
      ],
      "text/plain": [
       "               song                                       artist\n",
       "0       First Class                                  Jack Harlow\n",
       "1         As It Was                                 Harry Styles\n",
       "2        Heat Waves                                Glass Animals\n",
       "3        Big Energy                                        Latto\n",
       "4             Enemy                        Imagine Dragons X JID\n",
       "..              ...                                          ...\n",
       "95             Over                                   Lucky Daye\n",
       "96     Neck & Wrist  Pusha T Featuring JAY-Z & Pharrell Williams\n",
       "97     Desesperados            Rauw Alejandro & Chencho Corleone\n",
       "98     X Ultima Vez                     Daddy Yankee & Bad Bunny\n",
       "99  Praise The Lord               BRELAND Featuring Thomas Rhett\n",
       "\n",
       "[100 rows x 2 columns]"
      ]
     },
     "execution_count": 49,
     "metadata": {},
     "output_type": "execute_result"
    }
   ],
   "source": [
    "# Creating a DataFrame: here we create two arrays, we loop through the content in html_all\n",
    "# then we push the data we need into the two arrays. \n",
    "\n",
    "song = []\n",
    "artist = []\n",
    "\n",
    "for entry in html_all:\n",
    "    song.append(entry.find(\"h3\").get_text().replace(\"\\n\", \"\").replace('\\t', ''))\n",
    "    artist.append(entry.find(\"span\").get_text().replace(\"\\n\", \"\").replace('\\t', ''))\n",
    "    \n",
    "# Here we ensamble the DataFrame \n",
    "top100 = pd.DataFrame()\n",
    "top100['song'] = song\n",
    "top100['artist'] = artist\n",
    "top100\n",
    "    "
   ]
  },
  {
   "cell_type": "code",
   "execution_count": 50,
   "id": "dc3160ae-8abe-448e-958d-8c3f3ed855bf",
   "metadata": {},
   "outputs": [],
   "source": [
    "# Another way to create a DataFrame\n",
    "\n",
    "chart = []\n",
    "\n",
    "for entry in html_all:\n",
    "    col = {'song': entry.find('h3').get_text().replace('\\n', \"\").replace('\\t', \"\"),\n",
    "           'artist': entry.find('span').get_text().replace('\\n', \"\").replace('\\t', \"\")}\n",
    "    chart.append(col)"
   ]
  },
  {
   "cell_type": "code",
   "execution_count": 51,
   "id": "00157ab9-796c-4ca4-a9ff-fdac90bf8f91",
   "metadata": {},
   "outputs": [],
   "source": [
    "# we obtain an array \"chart\""
   ]
  },
  {
   "cell_type": "code",
   "execution_count": 52,
   "id": "460d78bd-3d00-4409-8934-585f97868809",
   "metadata": {},
   "outputs": [],
   "source": [
    "top100_b = pd.DataFrame(chart)"
   ]
  },
  {
   "cell_type": "code",
   "execution_count": 53,
   "id": "bcdd0771-4b81-4eb6-8cf1-cbc55f1e82ed",
   "metadata": {},
   "outputs": [
    {
     "data": {
      "text/html": [
       "<div>\n",
       "<style scoped>\n",
       "    .dataframe tbody tr th:only-of-type {\n",
       "        vertical-align: middle;\n",
       "    }\n",
       "\n",
       "    .dataframe tbody tr th {\n",
       "        vertical-align: top;\n",
       "    }\n",
       "\n",
       "    .dataframe thead th {\n",
       "        text-align: right;\n",
       "    }\n",
       "</style>\n",
       "<table border=\"1\" class=\"dataframe\">\n",
       "  <thead>\n",
       "    <tr style=\"text-align: right;\">\n",
       "      <th></th>\n",
       "      <th>song</th>\n",
       "      <th>artist</th>\n",
       "    </tr>\n",
       "  </thead>\n",
       "  <tbody>\n",
       "    <tr>\n",
       "      <th>0</th>\n",
       "      <td>First Class</td>\n",
       "      <td>Jack Harlow</td>\n",
       "    </tr>\n",
       "    <tr>\n",
       "      <th>1</th>\n",
       "      <td>As It Was</td>\n",
       "      <td>Harry Styles</td>\n",
       "    </tr>\n",
       "    <tr>\n",
       "      <th>2</th>\n",
       "      <td>Heat Waves</td>\n",
       "      <td>Glass Animals</td>\n",
       "    </tr>\n",
       "    <tr>\n",
       "      <th>3</th>\n",
       "      <td>Big Energy</td>\n",
       "      <td>Latto</td>\n",
       "    </tr>\n",
       "    <tr>\n",
       "      <th>4</th>\n",
       "      <td>Enemy</td>\n",
       "      <td>Imagine Dragons X JID</td>\n",
       "    </tr>\n",
       "    <tr>\n",
       "      <th>...</th>\n",
       "      <td>...</td>\n",
       "      <td>...</td>\n",
       "    </tr>\n",
       "    <tr>\n",
       "      <th>95</th>\n",
       "      <td>Over</td>\n",
       "      <td>Lucky Daye</td>\n",
       "    </tr>\n",
       "    <tr>\n",
       "      <th>96</th>\n",
       "      <td>Neck &amp; Wrist</td>\n",
       "      <td>Pusha T Featuring JAY-Z &amp; Pharrell Williams</td>\n",
       "    </tr>\n",
       "    <tr>\n",
       "      <th>97</th>\n",
       "      <td>Desesperados</td>\n",
       "      <td>Rauw Alejandro &amp; Chencho Corleone</td>\n",
       "    </tr>\n",
       "    <tr>\n",
       "      <th>98</th>\n",
       "      <td>X Ultima Vez</td>\n",
       "      <td>Daddy Yankee &amp; Bad Bunny</td>\n",
       "    </tr>\n",
       "    <tr>\n",
       "      <th>99</th>\n",
       "      <td>Praise The Lord</td>\n",
       "      <td>BRELAND Featuring Thomas Rhett</td>\n",
       "    </tr>\n",
       "  </tbody>\n",
       "</table>\n",
       "<p>100 rows × 2 columns</p>\n",
       "</div>"
      ],
      "text/plain": [
       "               song                                       artist\n",
       "0       First Class                                  Jack Harlow\n",
       "1         As It Was                                 Harry Styles\n",
       "2        Heat Waves                                Glass Animals\n",
       "3        Big Energy                                        Latto\n",
       "4             Enemy                        Imagine Dragons X JID\n",
       "..              ...                                          ...\n",
       "95             Over                                   Lucky Daye\n",
       "96     Neck & Wrist  Pusha T Featuring JAY-Z & Pharrell Williams\n",
       "97     Desesperados            Rauw Alejandro & Chencho Corleone\n",
       "98     X Ultima Vez                     Daddy Yankee & Bad Bunny\n",
       "99  Praise The Lord               BRELAND Featuring Thomas Rhett\n",
       "\n",
       "[100 rows x 2 columns]"
      ]
     },
     "execution_count": 53,
     "metadata": {},
     "output_type": "execute_result"
    }
   ],
   "source": [
    "top100_b"
   ]
  },
  {
   "cell_type": "code",
   "execution_count": null,
   "id": "3610bc3a-8f16-421c-9aa3-1acb95db8905",
   "metadata": {},
   "outputs": [],
   "source": []
  }
 ],
 "metadata": {
  "kernelspec": {
   "display_name": "Python 3 (ipykernel)",
   "language": "python",
   "name": "python3"
  },
  "language_info": {
   "codemirror_mode": {
    "name": "ipython",
    "version": 3
   },
   "file_extension": ".py",
   "mimetype": "text/x-python",
   "name": "python",
   "nbconvert_exporter": "python",
   "pygments_lexer": "ipython3",
   "version": "3.8.12"
  }
 },
 "nbformat": 4,
 "nbformat_minor": 5
}
